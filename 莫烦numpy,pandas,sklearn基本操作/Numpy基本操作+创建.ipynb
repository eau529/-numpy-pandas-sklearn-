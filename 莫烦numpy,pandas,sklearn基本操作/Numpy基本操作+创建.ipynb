{
 "cells": [
  {
   "cell_type": "code",
   "execution_count": 1,
   "metadata": {},
   "outputs": [],
   "source": [
    "import numpy as np #为了方便使用numpy 采用np简写"
   ]
  },
  {
   "cell_type": "code",
   "execution_count": 2,
   "metadata": {},
   "outputs": [
    {
     "name": "stdout",
     "output_type": "stream",
     "text": [
      "[[1 2 3]\n",
      " [2 3 4]]\n"
     ]
    },
    {
     "data": {
      "text/plain": [
       "'\\narray([[1, 2, 3],\\n       [2, 3, 4]])\\n'"
      ]
     },
     "execution_count": 2,
     "metadata": {},
     "output_type": "execute_result"
    }
   ],
   "source": [
    "#一、列表转化为矩阵：\n",
    "\n",
    "array = np.array([[1,2,3],[2,3,4]])  #列表转化为矩阵\n",
    "print(array)\n",
    "\"\"\"\n",
    "array([[1, 2, 3],\n",
    "       [2, 3, 4]])\n",
    "\"\"\""
   ]
  },
  {
   "cell_type": "code",
   "execution_count": 3,
   "metadata": {},
   "outputs": [
    {
     "name": "stdout",
     "output_type": "stream",
     "text": [
      "number of dim: 2\n",
      "shape : (2, 3)\n",
      "size: 6\n"
     ]
    }
   ],
   "source": [
    "#二、numpy 的几种属性\n",
    "\n",
    "print('number of dim:',array.ndim)  # 维度\n",
    "# number of dim: 2\n",
    "\n",
    "print('shape :',array.shape)    # 行数和列数\n",
    "# shape : (2, 3)\n",
    "\n",
    "print('size:',array.size)   # 元素个数\n",
    "# size: 6"
   ]
  },
  {
   "cell_type": "code",
   "execution_count": 4,
   "metadata": {},
   "outputs": [
    {
     "name": "stdout",
     "output_type": "stream",
     "text": [
      "[ 2 23  4]\n"
     ]
    }
   ],
   "source": [
    "#三、创建数组 \n",
    "\n",
    "a = np.array([2,23,4])  # list 1d\n",
    "print(a)\n",
    "# [2 23 4]"
   ]
  },
  {
   "cell_type": "code",
   "execution_count": 5,
   "metadata": {},
   "outputs": [
    {
     "name": "stdout",
     "output_type": "stream",
     "text": [
      "int32\n",
      "int32\n",
      "float64\n",
      "float32\n"
     ]
    }
   ],
   "source": [
    "#四、指定数据 dtype\n",
    "\n",
    "a = np.array([2,23,4],dtype=np.int)\n",
    "print(a.dtype)\n",
    "# int 64\n",
    "a = np.array([2,23,4],dtype=np.int32)\n",
    "print(a.dtype)\n",
    "# int32\n",
    "a = np.array([2,23,4],dtype=np.float)\n",
    "print(a.dtype)\n",
    "# float64\n",
    "a = np.array([2,23,4],dtype=np.float32)\n",
    "print(a.dtype)\n",
    "# float32"
   ]
  },
  {
   "cell_type": "code",
   "execution_count": 6,
   "metadata": {},
   "outputs": [
    {
     "name": "stdout",
     "output_type": "stream",
     "text": [
      "[[ 2 23  4]\n",
      " [ 2 32  4]]\n"
     ]
    },
    {
     "data": {
      "text/plain": [
       "'\\narray([[  1.        ,   1.47368421,   1.94736842,   2.42105263],\\n       [  2.89473684,   3.36842105,   3.84210526,   4.31578947],\\n       [  4.78947368,   5.26315789,   5.73684211,   6.21052632],\\n       [  6.68421053,   7.15789474,   7.63157895,   8.10526316],\\n       [  8.57894737,   9.05263158,   9.52631579,  10.        ]])\\n'"
      ]
     },
     "execution_count": 6,
     "metadata": {},
     "output_type": "execute_result"
    }
   ],
   "source": [
    "#五、创建特定数据 \n",
    "\n",
    "a = np.array([[2,23,4],[2,32,4]])  # 2d 矩阵 2行3列\n",
    "print(a)\n",
    "\"\"\"\n",
    "[[ 2 23  4]\n",
    " [ 2 32  4]]\n",
    "\"\"\"\n",
    "\n",
    "#5.1创建全零数组\n",
    "\n",
    "a = np.zeros((3,4)) # 数据全为0，3行4列\n",
    "\"\"\"\n",
    "array([[ 0.,  0.,  0.,  0.],\n",
    "       [ 0.,  0.,  0.,  0.],\n",
    "       [ 0.,  0.,  0.,  0.]])\n",
    "\"\"\"\n",
    "\n",
    "#5.2创建全一数组, 同时也能指定这些特定数据的 dtype:\n",
    "\n",
    "a = np.ones((3,4),dtype = np.int)   # 数据为1，3行4列\n",
    "\"\"\"\n",
    "array([[1, 1, 1, 1],\n",
    "       [1, 1, 1, 1],\n",
    "       [1, 1, 1, 1]])\n",
    "\"\"\"\n",
    "\n",
    "#5.3创建全空数组, 其实每个值都是接近于零的数:\n",
    "\n",
    "a = np.empty((3,4)) # 数据为empty，3行4列\n",
    "\"\"\"\n",
    "array([[  0.00000000e+000,   4.94065646e-324,   9.88131292e-324,\n",
    "          1.48219694e-323],\n",
    "       [  1.97626258e-323,   2.47032823e-323,   2.96439388e-323,\n",
    "          3.45845952e-323],\n",
    "       [  3.95252517e-323,   4.44659081e-323,   4.94065646e-323,\n",
    "          5.43472210e-323]])\n",
    "\"\"\"\n",
    "\n",
    "#5.4用 arange 创建连续数组:\n",
    "\n",
    "a = np.arange(10,20,2) # 10-19 的数据，2步长\n",
    "\"\"\"\n",
    "array([10, 12, 14, 16, 18])\n",
    "\"\"\"\n",
    "\n",
    "#5.5使用 reshape 改变数据的形状\n",
    "\n",
    "a = np.arange(12).reshape((3,4))    # 3行4列，0到11\n",
    "\"\"\"\n",
    "array([[ 0,  1,  2,  3],\n",
    "       [ 4,  5,  6,  7],\n",
    "       [ 8,  9, 10, 11]])\n",
    "\"\"\"\n",
    "\n",
    "#5.6用 linspace 创建线段型数据:\n",
    "\n",
    "a = np.linspace(1,10,20)    # 开始端1，结束端10，且分割成20个数据，生成线段\n",
    "\"\"\"\n",
    "array([  1.        ,   1.47368421,   1.94736842,   2.42105263,\n",
    "         2.89473684,   3.36842105,   3.84210526,   4.31578947,\n",
    "         4.78947368,   5.26315789,   5.73684211,   6.21052632,\n",
    "         6.68421053,   7.15789474,   7.63157895,   8.10526316,\n",
    "         8.57894737,   9.05263158,   9.52631579,  10.        ])\n",
    "\"\"\"\n",
    "\n",
    "#5.7同样也能进行 reshape 工作:\n",
    "\n",
    "a = np.linspace(1,10,20).reshape((5,4)) # 更改shape\n",
    "\"\"\"\n",
    "array([[  1.        ,   1.47368421,   1.94736842,   2.42105263],\n",
    "       [  2.89473684,   3.36842105,   3.84210526,   4.31578947],\n",
    "       [  4.78947368,   5.26315789,   5.73684211,   6.21052632],\n",
    "       [  6.68421053,   7.15789474,   7.63157895,   8.10526316],\n",
    "       [  8.57894737,   9.05263158,   9.52631579,  10.        ]])\n",
    "\"\"\""
   ]
  },
  {
   "cell_type": "code",
   "execution_count": 7,
   "metadata": {},
   "outputs": [
    {
     "name": "stdout",
     "output_type": "stream",
     "text": [
      "a = [[ 1.          1.47368421  1.94736842  2.42105263]\n",
      " [ 2.89473684  3.36842105  3.84210526  4.31578947]\n",
      " [ 4.78947368  5.26315789  5.73684211  6.21052632]\n",
      " [ 6.68421053  7.15789474  7.63157895  8.10526316]\n",
      " [ 8.57894737  9.05263158  9.52631579 10.        ]]\n",
      "sum = [ 6.84210526 14.42105263 22.         29.57894737 37.15789474]\n",
      "min = [1.         1.47368421 1.94736842 2.42105263]\n",
      "max = [ 2.42105263  4.31578947  6.21052632  8.10526316 10.        ]\n"
     ]
    }
   ],
   "source": []
  },
  {
   "cell_type": "code",
   "execution_count": null,
   "metadata": {},
   "outputs": [],
   "source": []
  }
 ],
 "metadata": {
  "kernelspec": {
   "display_name": "Python 3",
   "language": "python",
   "name": "python3"
  },
  "language_info": {
   "codemirror_mode": {
    "name": "ipython",
    "version": 3
   },
   "file_extension": ".py",
   "mimetype": "text/x-python",
   "name": "python",
   "nbconvert_exporter": "python",
   "pygments_lexer": "ipython3",
   "version": "3.7.11"
  }
 },
 "nbformat": 4,
 "nbformat_minor": 2
}
