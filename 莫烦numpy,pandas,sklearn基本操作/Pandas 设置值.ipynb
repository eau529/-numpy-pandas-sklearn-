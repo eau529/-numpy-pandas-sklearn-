{
 "cells": [
  {
   "cell_type": "code",
   "execution_count": 1,
   "metadata": {},
   "outputs": [
    {
     "data": {
      "text/plain": [
       "'\\n             A   B   C   D\\n2013-01-01   0   1   2   3\\n2013-01-02   4   5   6   7\\n2013-01-03   8   9  10  11\\n2013-01-04  12  13  14  15\\n2013-01-05  16  17  18  19\\n2013-01-06  20  21  22  23\\n'"
      ]
     },
     "execution_count": 1,
     "metadata": {},
     "output_type": "execute_result"
    }
   ],
   "source": [
    "# 创建数据 \n",
    "# 我们可以根据自己的需求, 用 pandas 进行更改数据里面的值, 或者加上一些空的,或者有数值的列.\n",
    "\n",
    "# 首先建立了一个 6X4 的矩阵数据。\n",
    "\n",
    "import numpy as np\n",
    "import pandas as pd\n",
    "\n",
    "dates = pd.date_range('20130101', periods=6)\n",
    "df = pd.DataFrame(np.arange(24).reshape((6,4)),index=dates, columns=['A','B','C','D'])\n",
    "\n",
    "\"\"\"\n",
    "             A   B   C   D\n",
    "2013-01-01   0   1   2   3\n",
    "2013-01-02   4   5   6   7\n",
    "2013-01-03   8   9  10  11\n",
    "2013-01-04  12  13  14  15\n",
    "2013-01-05  16  17  18  19\n",
    "2013-01-06  20  21  22  23\n",
    "\"\"\""
   ]
  },
  {
   "cell_type": "code",
   "execution_count": null,
   "metadata": {},
   "outputs": [],
   "source": [
    "# 1.loc：\n",
    "# 通过行标签索引行数据\n",
    "# 例：loc[n]表示索引的是第n行（index 是整数）\n",
    "# loc[‘d’]表示索引的是第’d’行（index 是字符）\n",
    "# 有行索引可以没有字段取值，但有字段取值前必须得有行索引，\n",
    "# 而且行索引只能为标签索引形式来取，不能按切片形式来取。\n",
    "# 单取切片形式可以，只是索引为左闭右闭。\n",
    "\n",
    "\n",
    "# 2. .iloc：\n",
    "# 通过行索引获取行数据，不能是字符，取索引必须按切片形式来取，不能按标签，\n",
    "#这是与loc的不同。索引为左闭右开。iloc也可以取指定行列，只不过得按切片形式索引，不能直接拿标签索引来做。\n",
    "\n",
    "\n",
    "\n",
    "# 建议：\n",
    "# 当用位置/行索引的时候, 尽量用 iloc 来进行索引; 而用标签索引的时候用 loc 。\n"
   ]
  },
  {
   "cell_type": "code",
   "execution_count": 2,
   "metadata": {},
   "outputs": [
    {
     "data": {
      "text/plain": [
       "'\\n                A     B     C   D\\n2013-01-01   0  2222     2   3\\n2013-01-02   4     5     6   7\\n2013-01-03   8     0  1111  11\\n2013-01-04  12     0    14  15\\n2013-01-05  16     0    18  19\\n2013-01-06  20     0    22  23 \\n'"
      ]
     },
     "execution_count": 2,
     "metadata": {},
     "output_type": "execute_result"
    }
   ],
   "source": [
    "# 二、根据位置设置 loc 和 iloc \n",
    "# 我们可以利用索引或者标签确定需要修改值的位置。\n",
    "\n",
    "df.iloc[2,2] = 1111\n",
    "df.loc['20130101','B'] = 2222\n",
    "\n",
    "\"\"\"\n",
    "             A     B     C   D\n",
    "2013-01-01   0  2222     2   3\n",
    "2013-01-02   4     5     6   7\n",
    "2013-01-03   8     9  1111  11\n",
    "2013-01-04  12    13    14  15\n",
    "2013-01-05  16    17    18  19\n",
    "2013-01-06  20    21    22  23\n",
    "\"\"\"\n",
    "\n",
    "\n",
    "# 三、根据条件设置 \n",
    "# 如果现在的判断条件是这样, 我们想要更改B中的数, 而更改的位置是取决于 A 的. 对于A大于4的位置. 更改B在相应位置上的数为0.\n",
    "\n",
    "df.B[df.A>4] = 0\n",
    "\"\"\"\n",
    "                A     B     C   D\n",
    "2013-01-01   0  2222     2   3\n",
    "2013-01-02   4     5     6   7\n",
    "2013-01-03   8     0  1111  11\n",
    "2013-01-04  12     0    14  15\n",
    "2013-01-05  16     0    18  19\n",
    "2013-01-06  20     0    22  23 \n",
    "\"\"\""
   ]
  },
  {
   "cell_type": "code",
   "execution_count": 3,
   "metadata": {},
   "outputs": [
    {
     "data": {
      "text/plain": [
       "'\\n             A     B     C   D   F  E\\n2013-01-01   0  2222     2   3 NaN  1\\n2013-01-02   4     5     6   7 NaN  2\\n2013-01-03   8     0  1111  11 NaN  3\\n2013-01-04  12     0    14  15 NaN  4\\n2013-01-05  16     0    18  19 NaN  5\\n2013-01-06  20     0    22  23 NaN  6\\n'"
      ]
     },
     "execution_count": 3,
     "metadata": {},
     "output_type": "execute_result"
    }
   ],
   "source": [
    "# 按行或列设置 \n",
    "# 如果对整列做批处理, 加上一列 ‘F’, 并将 F 列全改为 NaN, 如下:\n",
    "\n",
    "df['F'] = np.nan\n",
    "\"\"\"\n",
    "             A     B     C   D   F\n",
    "2013-01-01   0  2222     2   3 NaN\n",
    "2013-01-02   4     5     6   7 NaN\n",
    "2013-01-03   8     0  1111  11 NaN\n",
    "2013-01-04  12     0    14  15 NaN\n",
    "2013-01-05  16     0    18  19 NaN\n",
    "2013-01-06  20     0    22  23 NaN\n",
    "\"\"\"\n",
    "# 添加数据 \n",
    "# 用上面的方法也可以加上 Series 序列（但是长度必须对齐）。\n",
    "\n",
    "df['E'] = pd.Series([1,2,3,4,5,6], index=pd.date_range('20130101',periods=6)) \n",
    "\"\"\"\n",
    "             A     B     C   D   F  E\n",
    "2013-01-01   0  2222     2   3 NaN  1\n",
    "2013-01-02   4     5     6   7 NaN  2\n",
    "2013-01-03   8     0  1111  11 NaN  3\n",
    "2013-01-04  12     0    14  15 NaN  4\n",
    "2013-01-05  16     0    18  19 NaN  5\n",
    "2013-01-06  20     0    22  23 NaN  6\n",
    "\"\"\"\n",
    "# 这样我们大概学会了如何对DataFrame中在自己想要的地方赋值或者增加数据。 下次课会将pandas如何处理丢失数据的过程。"
   ]
  },
  {
   "cell_type": "code",
   "execution_count": null,
   "metadata": {},
   "outputs": [],
   "source": []
  }
 ],
 "metadata": {
  "kernelspec": {
   "display_name": "Python 3",
   "language": "python",
   "name": "python3"
  },
  "language_info": {
   "codemirror_mode": {
    "name": "ipython",
    "version": 3
   },
   "file_extension": ".py",
   "mimetype": "text/x-python",
   "name": "python",
   "nbconvert_exporter": "python",
   "pygments_lexer": "ipython3",
   "version": "3.7.11"
  }
 },
 "nbformat": 4,
 "nbformat_minor": 2
}
