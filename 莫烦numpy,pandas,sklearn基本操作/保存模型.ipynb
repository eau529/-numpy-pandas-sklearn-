{
 "cells": [
  {
   "cell_type": "code",
   "execution_count": 2,
   "metadata": {},
   "outputs": [
    {
     "name": "stdout",
     "output_type": "stream",
     "text": [
      "[0]\n",
      "[0]\n"
     ]
    }
   ],
   "source": [
    "# 总算到了最后一次的课程了,我们训练好了一个Model 以后总需要保存和再次预测, \n",
    "# 所以保存和读取我们的sklearn model也是同样重要的一步。这次主要介绍两种保存Model的模块pickle与joblib。\n",
    "\n",
    "# 使用 pickle 保存 ¶\n",
    "# 首先简单建立与训练一个SVCModel。\n",
    "\n",
    "from sklearn import svm\n",
    "from sklearn import datasets\n",
    "\n",
    "clf = svm.SVC()\n",
    "iris = datasets.load_iris()\n",
    "X, y = iris.data, iris.target\n",
    "clf.fit(X,y)\n",
    "# 使用pickle来保存与读取训练好的Model。 (若忘记什么是pickle，可以回顾13.8 pickle 保存数据视频。)\n",
    "\n",
    "import pickle #pickle模块\n",
    "\n",
    "#保存Model(注:save文件夹要预先建立，否则会报错)\n",
    "with open('save/clf.pickle', 'wb') as f:\n",
    "    pickle.dump(clf, f) ##写入clf这个SVM模型实例\n",
    "\n",
    "#读取Model\n",
    "with open('save/clf.pickle', 'rb') as f:\n",
    "    clf2 = pickle.load(f)\n",
    "    #测试读取后的Model\n",
    "    print(clf2.predict(X[0:1]))\n",
    "\n",
    "# [0]\n",
    "\n",
    "# 使用 joblib 保存 \n",
    "# joblib是sklearn的外部模块。\n",
    "\n",
    "import joblib #jbolib模块\n",
    "\n",
    "#保存Model(注:save文件夹要预先建立，否则会报错)\n",
    "joblib.dump(clf, 'save/clf.pkl')\n",
    "\n",
    "#读取Model\n",
    "clf3 = joblib.load('save/clf.pkl')\n",
    "\n",
    "#测试读取后的Model\n",
    "print(clf3.predict(X[0:1]))\n",
    "\n",
    "# [0]\n",
    "# 最后可以知道joblib在使用上比较容易，读取速度也相对pickle快。"
   ]
  },
  {
   "cell_type": "code",
   "execution_count": 3,
   "metadata": {},
   "outputs": [
    {
     "name": "stdout",
     "output_type": "stream",
     "text": [
      "Requirement already satisfied: joblib in d:\\anaconda\\envs\\rlwork\\lib\\site-packages (1.2.0)\n",
      "Note: you may need to restart the kernel to use updated packages.\n"
     ]
    }
   ],
   "source": [
    "pip install joblib"
   ]
  },
  {
   "cell_type": "code",
   "execution_count": null,
   "metadata": {},
   "outputs": [],
   "source": []
  }
 ],
 "metadata": {
  "kernelspec": {
   "display_name": "Python 3",
   "language": "python",
   "name": "python3"
  },
  "language_info": {
   "codemirror_mode": {
    "name": "ipython",
    "version": 3
   },
   "file_extension": ".py",
   "mimetype": "text/x-python",
   "name": "python",
   "nbconvert_exporter": "python",
   "pygments_lexer": "ipython3",
   "version": "3.7.11"
  }
 },
 "nbformat": 4,
 "nbformat_minor": 2
}
