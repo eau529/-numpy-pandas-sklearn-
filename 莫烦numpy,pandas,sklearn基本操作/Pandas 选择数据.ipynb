{
 "cells": [
  {
   "cell_type": "code",
   "execution_count": 3,
   "metadata": {},
   "outputs": [
    {
     "data": {
      "text/plain": [
       "'\\n             A   B   C   D\\n2013-01-01   0   1   2   3\\n2013-01-02   4   5   6   7\\n2013-01-03   8   9  10  11\\n2013-01-04  12  13  14  15\\n2013-01-05  16  17  18  19\\n2013-01-06  20  21  22  23\\n'"
      ]
     },
     "execution_count": 3,
     "metadata": {},
     "output_type": "execute_result"
    }
   ],
   "source": [
    "#我们建立了一个 6X4 的矩阵数据。\n",
    "import pandas as pd\n",
    "import numpy as np\n",
    "\n",
    "dates = pd.date_range('20130101', periods=6)\n",
    "df = pd.DataFrame(np.arange(24).reshape((6,4)),index=dates, columns=['A','B','C','D'])\n",
    "\n",
    "\"\"\"\n",
    "             A   B   C   D\n",
    "2013-01-01   0   1   2   3\n",
    "2013-01-02   4   5   6   7\n",
    "2013-01-03   8   9  10  11\n",
    "2013-01-04  12  13  14  15\n",
    "2013-01-05  16  17  18  19\n",
    "2013-01-06  20  21  22  23\n",
    "\"\"\""
   ]
  },
  {
   "cell_type": "code",
   "execution_count": 4,
   "metadata": {},
   "outputs": [
    {
     "name": "stdout",
     "output_type": "stream",
     "text": [
      "2013-01-01     0\n",
      "2013-01-02     4\n",
      "2013-01-03     8\n",
      "2013-01-04    12\n",
      "2013-01-05    16\n",
      "2013-01-06    20\n",
      "Freq: D, Name: A, dtype: int32\n",
      "2013-01-01     0\n",
      "2013-01-02     4\n",
      "2013-01-03     8\n",
      "2013-01-04    12\n",
      "2013-01-05    16\n",
      "2013-01-06    20\n",
      "Freq: D, Name: A, dtype: int32\n",
      "            A  B   C   D\n",
      "2013-01-01  0  1   2   3\n",
      "2013-01-02  4  5   6   7\n",
      "2013-01-03  8  9  10  11\n",
      "             A   B   C   D\n",
      "2013-01-02   4   5   6   7\n",
      "2013-01-03   8   9  10  11\n",
      "2013-01-04  12  13  14  15\n"
     ]
    },
    {
     "data": {
      "text/plain": [
       "'\\nA   B   C   D\\n2013-01-02   4   5   6   7\\n2013-01-03   8   9  10  11\\n2013-01-04  12  13  14  15\\n'"
      ]
     },
     "execution_count": 4,
     "metadata": {},
     "output_type": "execute_result"
    }
   ],
   "source": [
    "#二、简单的筛选 \n",
    "#如果我们想选取DataFrame中的数据，下面描述了两种途径, 他们都能达到同一个目的：\n",
    "\n",
    "print(df['A'])\n",
    "print(df.A)\n",
    "\n",
    "\"\"\"\n",
    "2013-01-01     0\n",
    "2013-01-02     4\n",
    "2013-01-03     8\n",
    "2013-01-04    12\n",
    "2013-01-05    16\n",
    "2013-01-06    20\n",
    "Freq: D, Name: A, dtype: int64\n",
    "\"\"\"\n",
    "\n",
    "#让选择跨越多行或多列:（后边界不选中)\n",
    "\n",
    "print(df[0:3])\n",
    " \n",
    "\"\"\"\n",
    "            A  B   C   D\n",
    "2013-01-01  0  1   2   3\n",
    "2013-01-02  4  5   6   7\n",
    "2013-01-03  8  9  10  11\n",
    "\"\"\"\n",
    "\n",
    "print(df['20130102':'20130104'])\n",
    "\n",
    "\"\"\"\n",
    "A   B   C   D\n",
    "2013-01-02   4   5   6   7\n",
    "2013-01-03   8   9  10  11\n",
    "2013-01-04  12  13  14  15\n",
    "\"\"\"\n",
    "#如果df[3:3]将会是一个空对象。后者选择20130102到20130104标签之间的数据，并且包括这两个标签。"
   ]
  },
  {
   "cell_type": "code",
   "execution_count": 5,
   "metadata": {},
   "outputs": [
    {
     "name": "stdout",
     "output_type": "stream",
     "text": [
      "A    4\n",
      "B    5\n",
      "C    6\n",
      "D    7\n",
      "Name: 2013-01-02 00:00:00, dtype: int32\n",
      "             A   B\n",
      "2013-01-01   0   1\n",
      "2013-01-02   4   5\n",
      "2013-01-03   8   9\n",
      "2013-01-04  12  13\n",
      "2013-01-05  16  17\n",
      "2013-01-06  20  21\n",
      "A    4\n",
      "B    5\n",
      "Name: 2013-01-02 00:00:00, dtype: int32\n",
      "13\n",
      "             B   C\n",
      "2013-01-04  13  14\n",
      "2013-01-05  17  18\n",
      "             B   C\n",
      "2013-01-02   5   6\n",
      "2013-01-04  13  14\n",
      "2013-01-06  21  22\n"
     ]
    },
    {
     "data": {
      "text/plain": [
       "'\\n             B   C\\n2013-01-02   5   6\\n2013-01-04  13  14\\n2013-01-06  21  22\\n\\n'"
      ]
     },
     "execution_count": 5,
     "metadata": {},
     "output_type": "execute_result"
    }
   ],
   "source": [
    "#三、根据标签 loc \n",
    "\n",
    "#3.1使用标签来选择数据 loc, 本例子主要通过标签名字选择某一行数据，\n",
    "#或者通过选择某行或者所有行（:代表所有行）然后选其中某一列或几列数据。:\n",
    "\n",
    "print(df.loc['20130102'])\n",
    "\"\"\"\n",
    "A    4\n",
    "B    5\n",
    "C    6\n",
    "D    7\n",
    "Name: 2013-01-02 00:00:00, dtype: int64\n",
    "\"\"\"\n",
    "\n",
    "print(df.loc[:,['A','B']]) \n",
    "\"\"\"\n",
    "             A   B\n",
    "2013-01-01   0   1\n",
    "2013-01-02   4   5\n",
    "2013-01-03   8   9\n",
    "2013-01-04  12  13\n",
    "2013-01-05  16  17\n",
    "2013-01-06  20  21\n",
    "\"\"\"\n",
    "\n",
    "print(df.loc['20130102',['A','B']])\n",
    "\"\"\"\n",
    "A    4\n",
    "B    5\n",
    "Name: 2013-01-02 00:00:00, dtype: int64\n",
    "\"\"\"\n",
    "\n",
    "#3.2根据序列 iloc \n",
    "#另外我们可以采用位置进行选择 iloc, 在这里我们可以通过位置选择在不同情况下所需要的数据例如选某一个，连续选或者跨行选等操作。\n",
    "\n",
    "print(df.iloc[3,1])\n",
    "# 13\n",
    "\n",
    "print(df.iloc[3:5,1:3])\n",
    "\"\"\"\n",
    "             B   C\n",
    "2013-01-04  13  14\n",
    "2013-01-05  17  18\n",
    "\"\"\"\n",
    "\n",
    "print(df.iloc[[1,3,5],1:3])\n",
    "\"\"\"\n",
    "             B   C\n",
    "2013-01-02   5   6\n",
    "2013-01-04  13  14\n",
    "2013-01-06  21  22\n",
    "\n",
    "\"\"\"\n",
    "#在这里我们可以通过位置选择在不同情况下所需要的数据, 例如选某一个，连续选或者跨行选等操作。"
   ]
  },
  {
   "cell_type": "code",
   "execution_count": 9,
   "metadata": {},
   "outputs": [
    {
     "name": "stdout",
     "output_type": "stream",
     "text": [
      "             A   B   C   D\n",
      "2013-01-04  12  13  14  15\n",
      "2013-01-05  16  17  18  19\n",
      "2013-01-06  20  21  22  23\n"
     ]
    },
    {
     "data": {
      "text/plain": [
       "'\\n             A   B   C   D\\n2013-01-04  12  13  14  15\\n2013-01-05  16  17  18  19\\n2013-01-06  20  21  22  23\\n'"
      ]
     },
     "execution_count": 9,
     "metadata": {},
     "output_type": "execute_result"
    }
   ],
   "source": [
    "#根据混合的这两种 ix \n",
    "#当然我们可以采用混合选择 ix, 其中选择’A’和’C’的两列，并选择前三行的数据。\n",
    "\n",
    "# print(df.ix[:3,['A','C']])\n",
    "\"\"\"\n",
    "            A   C\n",
    "2013-01-01  0   2\n",
    "2013-01-02  4   6\n",
    "2013-01-03  8  10\n",
    "\"\"\"\n",
    "#通过判断的筛选 \n",
    "#最后我们可以采用判断指令 (Boolean indexing) 进行选择. 我们可以约束某项条件然后选择出当前所有数据.\n",
    "\n",
    "print(df[df.A>8])\n",
    "\"\"\"\n",
    "             A   B   C   D\n",
    "2013-01-04  12  13  14  15\n",
    "2013-01-05  16  17  18  19\n",
    "2013-01-06  20  21  22  23\n",
    "\"\"\""
   ]
  },
  {
   "cell_type": "code",
   "execution_count": null,
   "metadata": {},
   "outputs": [],
   "source": []
  }
 ],
 "metadata": {
  "kernelspec": {
   "display_name": "Python 3",
   "language": "python",
   "name": "python3"
  },
  "language_info": {
   "codemirror_mode": {
    "name": "ipython",
    "version": 3
   },
   "file_extension": ".py",
   "mimetype": "text/x-python",
   "name": "python",
   "nbconvert_exporter": "python",
   "pygments_lexer": "ipython3",
   "version": "3.7.11"
  }
 },
 "nbformat": 4,
 "nbformat_minor": 2
}
